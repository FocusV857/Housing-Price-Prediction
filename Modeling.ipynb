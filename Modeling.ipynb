{
 "cells": [
  {
   "cell_type": "code",
   "execution_count": null,
   "metadata": {},
   "outputs": [],
   "source": [
    "import numpy as np  \n",
    "import pandas as pd  \n",
    "from datetime import datetime\n",
    "from sklearn.linear_model import ElasticNet, Lasso, RidgeCV\n",
    "from sklearn.ensemble import GradientBoostingRegressor\n",
    "from sklearn.svm import SVR\n",
    "from sklearn.pipeline import make_pipeline\n",
    "from sklearn.preprocessing import RobustScaler\n",
    "from sklearn.model_selection import KFold, cross_val_score\n",
    "from sklearn.metrics import mean_squared_error\n",
    "from mlxtend.regressor import StackingCVRegressor\n",
    "from xgboost import XGBRegressor\n",
    "from lightgbm import LGBMRegressor"
   ]
  },
  {
   "cell_type": "markdown",
   "metadata": {},
   "source": [
    "# 读取预处理好的数据，设置训练集、测试集"
   ]
  },
  {
   "cell_type": "code",
   "execution_count": null,
   "metadata": {},
   "outputs": [],
   "source": [
    "numerical_df = pd.read_csv(\"preprocessed/numerical.csv\")\n",
    "cate_with_num_df = pd.read_csv(\"preprocessed/df_final.csv\")\n",
    "df_final=cate_with_num_df.copy()"
   ]
  },
  {
   "cell_type": "code",
   "execution_count": null,
   "metadata": {},
   "outputs": [],
   "source": [
    "Train=df_final[df_final['train']==1].copy()\n",
    "Test=df_final[df_final['train']==0].copy()\n",
    "\n",
    "Y_train=Train['SalePrice'].to_numpy()\n",
    "X_train=Train.drop(['SalePrice','train','Id'],axis=1).to_numpy()\n",
    "\n",
    "X_test=Test.drop(['SalePrice','train','Id'],axis=1).to_numpy()\n",
    "print(X_test.shape)"
   ]
  },
  {
   "cell_type": "markdown",
   "metadata": {},
   "source": [
    "# 初始化模型"
   ]
  },
  {
   "cell_type": "code",
   "execution_count": null,
   "metadata": {},
   "outputs": [],
   "source": [
    "kfolds = KFold(n_splits=10, shuffle=True)\n",
    "\n",
    "ridge = make_pipeline(RobustScaler(), RidgeCV(cv=kfolds))\n",
    "\n",
    "lasso = Lasso(alpha=0.5)\n",
    "\n",
    "elastic = ElasticNet(alpha=0.5,l1_ratio=0.5)\n",
    "\t\t\t\t                           \n",
    "svr = make_pipeline(RobustScaler(), SVR(C=20, epsilon=0.008, gamma=0.0003,))\n",
    "\t\t\t\t\t\t\t\t\t\n",
    "gbr = GradientBoostingRegressor(n_estimators=3000, learning_rate=0.05, max_depth=4, max_features='sqrt', min_samples_leaf=15, min_samples_split=10, loss='huber')                             \n",
    "\t\t\t\t\t\t\t\t\n",
    "lightgbm = LGBMRegressor(objective='regression', \n",
    "                                       num_leaves=4,\n",
    "                                       learning_rate=0.01, \n",
    "                                       n_estimators=5000,\n",
    "                                       max_bin=200, \n",
    "                                       bagging_fraction=0.75,\n",
    "                                       bagging_freq=5, \n",
    "                                       bagging_seed=7,\n",
    "                                       feature_fraction=0.2,\n",
    "                                       feature_fraction_seed=7,\n",
    "                                       verbose=-1,\n",
    "                                       )\n",
    "                                  \n",
    "xgboost = XGBRegressor(learning_rate=0.01, n_estimators=3460,\n",
    "                                     max_depth=4, min_child_weight=0,\n",
    "                                     gamma=0, subsample=0.7,\n",
    "                                     colsample_bytree=0.7,\n",
    "                                     objective='reg:squarederror', nthread=-1,\n",
    "                                     scale_pos_weight=1, \n",
    "                                     reg_alpha=0.00006)\n",
    "                                     \n",
    "stack_gen = StackingCVRegressor(regressors=(ridge, lasso, elastic, xgboost, lightgbm),\n",
    "                                meta_regressor=xgboost,\n",
    "                                use_features_in_secondary=True)"
   ]
  },
  {
   "cell_type": "markdown",
   "metadata": {},
   "source": [
    "# 对模型进行评估"
   ]
  },
  {
   "cell_type": "code",
   "execution_count": null,
   "metadata": {},
   "outputs": [],
   "source": [
    "def cv_rmse(model):\n",
    "    rmse = np.sqrt(-cross_val_score(model, X_train, Y_train, scoring=\"neg_mean_squared_error\", cv=kfolds))\n",
    "    return (rmse)"
   ]
  },
  {
   "cell_type": "code",
   "execution_count": null,
   "metadata": {},
   "outputs": [],
   "source": [
    "score0 = cv_rmse(ridge)\n",
    "print(\"Ridge得分: {:.4f} ({:.4f})\\n\".format(score0.mean(), score0.std()), datetime.now(), )\n",
    "\n",
    "score1 = cv_rmse(lasso)\n",
    "print(\"LASSO得分: {:.4f} ({:.4f})\\n\".format(score1.mean(), score1.std()), datetime.now(), )\n",
    "\n",
    "score2 = cv_rmse(elastic)\n",
    "print(\"ElasticNet得分: {:.4f} ({:.4f})\\n\".format(score2.mean(), score2.std()), datetime.now(), )\n",
    "\n",
    "score3 = cv_rmse(svr)\n",
    "print(\"SVR得分: {:.4f} ({:.4f})\\n\".format(score3.mean(), score3.std()), datetime.now(), )\n",
    "\n",
    "score4 = cv_rmse(gbr)\n",
    "print(\"gbr得分: {:.4f} ({:.4f})\\n\".format(score4.mean(), score4.std()), datetime.now(), )\n",
    "\n",
    "score5 = cv_rmse(lightgbm)\n",
    "print(\"lightgbm得分: {:.4f} ({:.4f})\\n\".format(score5.mean(), score5.std()), datetime.now(), )\n",
    "\n",
    "score6 = cv_rmse(xgboost)\n",
    "print(\"xgboost得分: {:.4f} ({:.4f})\\n\".format(score6.mean(), score6.std()), datetime.now(), )\n",
    "\n",
    "score7 = cv_rmse(stack_gen)\n",
    "print(\"stack_gen得分: {:.4f} ({:.4f})\\n\".format(score7.mean(), score7.std()), datetime.now(), )"
   ]
  },
  {
   "cell_type": "markdown",
   "metadata": {},
   "source": [
    "# 训练模型"
   ]
  },
  {
   "cell_type": "code",
   "execution_count": null,
   "metadata": {},
   "outputs": [],
   "source": [
    "ridge.fit(X_train, Y_train)\n",
    "print(\"Finish Training Ridge\")\n",
    "\n",
    "lasso.fit(X_train, Y_train)\n",
    "print(\"Finish Training LASSO\")\n",
    "\n",
    "elastic.fit(X_train, Y_train)\n",
    "print(\"Finish Training ElasticNet\")\n",
    "\n",
    "svr.fit(X_train, Y_train)\n",
    "print(\"Finish Training SVM\")\n",
    "\n",
    "gbr.fit(X_train, Y_train)\n",
    "print(\"Finish Training GBR\")\n",
    "\n",
    "lightgbm.fit(X_train, Y_train)\n",
    "print(\"Finish Training Lightgbm\")\n",
    "\n",
    "xgboost.fit(X_train, Y_train)\n",
    "print(\"Finish Training Xgboost\")\n",
    "\n",
    "stack_gen.fit(X_train, Y_train)\n",
    "print(\"Finish Training stack_gen\")\n",
    "\n",
    "print(\"Finish Training All\")"
   ]
  },
  {
   "cell_type": "markdown",
   "metadata": {},
   "source": [
    "# 根据每个模型的表现，确定最终每个模型的权重"
   ]
  },
  {
   "cell_type": "code",
   "execution_count": null,
   "metadata": {},
   "outputs": [],
   "source": [
    "def rmsle(y, y_pred):\n",
    "    return np.sqrt(mean_squared_error(y, y_pred))\n",
    "\n",
    "def normalize(scores):\n",
    "    total = 0\n",
    "    for score in scores:\n",
    "        if score != 0:\n",
    "            total += 1/score\n",
    "    for i,score in enumerate(scores):\n",
    "        if score != 0:\n",
    "            scores[i]=(1/score)/total\n",
    "    return scores\n",
    "\n",
    "def ensemble_models_predict(X, weights):\n",
    "    result = weights[0] * ridge.predict(X) + \\\n",
    "             weights[1] * lasso.predict(X) + \\\n",
    "             weights[2] * elastic.predict(X) + \\\n",
    "             weights[3] * svr.predict(X)+ \\\n",
    "             weights[4] * gbr.predict(X) + \\\n",
    "             weights[5] * lightgbm.predict(X) + \\\n",
    "             weights[6] * xgboost.predict(X) + \\\n",
    "             weights[7] * stack_gen.predict(X) \n",
    "    return result"
   ]
  },
  {
   "cell_type": "code",
   "execution_count": null,
   "metadata": {},
   "outputs": [],
   "source": [
    "scores = [score0.mean(),score1.mean(),score2.mean(),score3.mean(),score4.mean(),score5.mean(),score6.mean(),score7.mean()]\n",
    "print(scores)\n",
    "scores = normalize(scores)\n",
    "print(scores)"
   ]
  },
  {
   "cell_type": "code",
   "execution_count": null,
   "metadata": {},
   "outputs": [],
   "source": [
    "# weights\n",
    "# 0 ridge\n",
    "# 1 lasso\n",
    "# 2 elasticnet\n",
    "# 3 svm\n",
    "# 4 gbr\n",
    "# 5 lightgbm\n",
    "# 6 xgboost\n",
    "# 7 stack_gen\n",
    "weights_final = scores.copy()\n",
    "weights_final = normalize(weights_final)\n",
    "# weights_final[0] = 0\n",
    "weights_final[1] = 0\n",
    "weights_final[2] = 0\n",
    "weights_final[3] = 0\n",
    "# weights_final[4] = 0\n",
    "# weights_final[5] = 0\n",
    "# weights_final[6] = 0\n",
    "# weights_final[7] = 0\n",
    "# weights_final = [0.1, 0.05, 0.1, 0, 0.21, 0.19, 0.22, 0.20]        \n",
    "total = sum(weights_final)\n",
    "for i in range(len(weights_final)):\n",
    "    weights_final[i] = weights_final[i]/total\n",
    "print(weights_final)"
   ]
  },
  {
   "cell_type": "code",
   "execution_count": null,
   "metadata": {},
   "outputs": [],
   "source": [
    "# 暴力搜索权重空间\n",
    "\n",
    "# min_score = 10000000\n",
    "# for a in np.arange(0,1,0.001):\n",
    "#     for b in np.arange(0,1,0.001):\n",
    "#         if a+b>1:\n",
    "#             break\n",
    "#         for c in np.arange(0,1,0.001):\n",
    "#             if a+b+c>1:\n",
    "#                 break\n",
    "#             for d in np.arange(0,1,0.001):\n",
    "#                 if a+b+c+d>1:\n",
    "#                     break\n",
    "#                 e = 1-a-b-c-d\n",
    "#                 weights_final = [a,0,0,0,b,c,d,e]\n",
    "#                 score = rmsle(Y_train, ensemble_models_predict(X_train,weights_final))\n",
    "#                 if score < min_score:\n",
    "#                     min_score = score\n",
    "#                     pred = ensemble_models_predict(X_test, weights_final)\n",
    "\n",
    "#                     submission = pd.DataFrame({\n",
    "#                             \"Id\": Test[\"Id\"],\n",
    "#                             \"SalePrice\": pred\n",
    "#                         })\n",
    "#                     result_path=\"result/5_models.csv\"\n",
    "#                     submission.to_csv(result_path, index=False)"
   ]
  },
  {
   "cell_type": "markdown",
   "metadata": {},
   "source": [
    "# 在训练集上进行评估"
   ]
  },
  {
   "cell_type": "code",
   "execution_count": null,
   "metadata": {},
   "outputs": [],
   "source": [
    "score = rmsle(Y_train, ensemble_models_predict(X_train,weights_final))\n",
    "print(score)\n",
    "print(score/Y_train.mean())"
   ]
  },
  {
   "cell_type": "markdown",
   "metadata": {},
   "source": [
    "# 输出并保存预测结果"
   ]
  },
  {
   "cell_type": "code",
   "execution_count": null,
   "metadata": {},
   "outputs": [],
   "source": [
    "pred = ensemble_models_predict(X_test, weights_final)\n",
    "\n",
    "submission = pd.DataFrame({\n",
    "        \"Id\": Test[\"Id\"],\n",
    "        \"SalePrice\": pred\n",
    "    })\n",
    "result_path=\"result/5_models.csv\"\n",
    "submission.to_csv(result_path, index=False)"
   ]
  }
 ],
 "metadata": {
  "interpreter": {
   "hash": "814ea88d19bc002ebb912af33eacfeb992907aa8b4359881a3836172dcf39a81"
  },
  "kernelspec": {
   "display_name": "Python 3.8.8 ('base')",
   "language": "python",
   "name": "python3"
  },
  "language_info": {
   "codemirror_mode": {
    "name": "ipython",
    "version": 3
   },
   "file_extension": ".py",
   "mimetype": "text/x-python",
   "name": "python",
   "nbconvert_exporter": "python",
   "pygments_lexer": "ipython3",
   "version": "3.8.8"
  },
  "orig_nbformat": 4
 },
 "nbformat": 4,
 "nbformat_minor": 2
}
